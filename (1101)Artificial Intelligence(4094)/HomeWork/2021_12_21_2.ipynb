{
  "nbformat": 4,
  "nbformat_minor": 0,
  "metadata": {
    "colab": {
      "name": "Untitled6.ipynb",
      "provenance": [],
      "collapsed_sections": []
    },
    "kernelspec": {
      "name": "python3",
      "display_name": "Python 3"
    },
    "language_info": {
      "name": "python"
    }
  },
  "cells": [
    {
      "cell_type": "code",
      "execution_count": 107,
      "metadata": {
        "id": "bfMeymat90vc"
      },
      "outputs": [],
      "source": [
        "import pandas as pd\n",
        "import numpy as np\n",
        "import matplotlib.pyplot as plt\n",
        "import seaborn as sns\n",
        "%matplotlib inline\n",
        "plt.rcParams['font.sans-serif'] = ['DFKai-sb'] \n",
        "plt.rcParams['axes.unicode_minus'] = False\n",
        "%config InlineBackend.figure_format = 'retina'\n",
        "import warnings\n",
        "warnings.filterwarnings('ignore')"
      ]
    },
    {
      "cell_type": "code",
      "source": [
        "df = pd.read_csv(\"/content/drive/MyDrive/Colab Notebooks/winequality.csv\",sep=\";\")\n",
        "q = {3:0, 4:0, 5:0, 6:1, 7:1, 8:1, 9:1}\n",
        "df['quality'] = df['quality'].map(q)"
      ],
      "metadata": {
        "id": "V4SEyf0892xZ"
      },
      "execution_count": 108,
      "outputs": []
    },
    {
      "cell_type": "code",
      "source": [
        "X_cols = df.columns.drop('quality')\n",
        "X = df[X_cols]\n",
        "y = df['quality']\n",
        "from sklearn.model_selection import train_test_split\n",
        "X_train, X_test, y_train, y_test = train_test_split(X, y, test_size=0.3, random_state=0)"
      ],
      "metadata": {
        "id": "QeWuON_K-brw"
      },
      "execution_count": 109,
      "outputs": []
    },
    {
      "cell_type": "code",
      "source": [
        "vc = VotingClassifier([\n",
        "    ('SVC', SVC(probability=True)),\n",
        "    ('lr', LogisticRegression()),\n",
        "    ('tree', KNeighborsClassifier()),\n",
        "    ('knn', DecisionTreeClassifier(max_depth=10))], \n",
        "    voting='hard')"
      ],
      "metadata": {
        "id": "mU_oiAGWBHiy"
      },
      "execution_count": 110,
      "outputs": []
    },
    {
      "cell_type": "code",
      "source": [
        "vc.fit(X_train, y_train)\n",
        "train_score = vc.score(X_train, y_train)\n",
        "test_score = vc.score(X_test, y_test)\n",
        "print('訓練集的預測結果', train_score)\n",
        "print('測試集的預測結果', test_score)"
      ],
      "metadata": {
        "colab": {
          "base_uri": "https://localhost:8080/"
        },
        "id": "yaP9g8euBgt6",
        "outputId": "326b722b-6c1d-44f8-d75d-14c35f6a0896"
      },
      "execution_count": 111,
      "outputs": [
        {
          "output_type": "stream",
          "name": "stdout",
          "text": [
            "訓練集的預測結果 0.8453925665273807\n",
            "測試集的預測結果 0.7487179487179487\n"
          ]
        }
      ]
    },
    {
      "cell_type": "code",
      "source": [
        "from sklearn.svm import SVC\n",
        "from sklearn.pipeline import make_pipeline\n",
        "from sklearn.naive_bayes import GaussianNB\n",
        "from sklearn.linear_model import SGDClassifier\n",
        "from sklearn.neighbors import NearestNeighbors\n",
        "from sklearn.tree import DecisionTreeClassifier\n",
        "from sklearn.neural_network import MLPClassifier\n",
        "from sklearn.neighbors import KNeighborsClassifier\n",
        "from sklearn.linear_model import LogisticRegression\n",
        "from sklearn.preprocessing import StandardScaler\n",
        "from sklearn.ensemble import VotingClassifier"
      ],
      "metadata": {
        "id": "VJRB9bQs-wfj"
      },
      "execution_count": 112,
      "outputs": []
    },
    {
      "cell_type": "code",
      "source": [
        "vc = VotingClassifier([\n",
        "    ('SVC', SVC(probability=True)),\n",
        "    ('GNB', GaussianNB()),\n",
        "    ('lr', LogisticRegression()),\n",
        "    ('tree', KNeighborsClassifier()),\n",
        "    ('knn', DecisionTreeClassifier(max_depth=10))],\n",
        "    voting='soft', weights=[1, 1, 2, 1, 3])\n",
        "vc.fit(X_train, y_train)\n",
        "train_score = vc.score(X_train, y_train)\n",
        "test_score = vc.score(X_test, y_test)\n",
        "print('訓練集的預測結果', train_score)\n",
        "print('測試集的預測結果', test_score)"
      ],
      "metadata": {
        "id": "PwjwgA9wCS7y"
      },
      "execution_count": null,
      "outputs": []
    },
    {
      "cell_type": "code",
      "source": [
        ""
      ],
      "metadata": {
        "id": "7t1KS0VMCTkb"
      },
      "execution_count": null,
      "outputs": []
    }
  ]
}