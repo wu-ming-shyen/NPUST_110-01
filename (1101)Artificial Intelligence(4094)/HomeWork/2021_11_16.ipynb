{
  "nbformat": 4,
  "nbformat_minor": 0,
  "metadata": {
    "colab": {
      "name": "B10856012.ipnb",
      "provenance": [],
      "collapsed_sections": []
    },
    "kernelspec": {
      "name": "python3",
      "display_name": "Python 3"
    },
    "language_info": {
      "name": "python"
    }
  },
  "cells": [
    {
      "cell_type": "code",
      "metadata": {
        "colab": {
          "base_uri": "https://localhost:8080/",
          "height": 206
        },
        "id": "dYBrknBzZKfi",
        "outputId": "6b940e67-6163-4e0b-91a8-4ee29d94a596"
      },
      "source": [
        "import pandas as pd\n",
        "import numpy as np\n",
        "import matplotlib.pyplot as plt\n",
        "import seaborn as sns\n",
        "%matplotlib inline\n",
        "plt.rcParams['font.sans-serif'] = ['DFKai-sb']\n",
        "plt.rcParams['axes.unicode_minus'] = False\n",
        "%config InlineBackend.figure_format = 'retina'\n",
        "import warnings\n",
        "warnings.filterwarnings('ignore')\n",
        "# 資料載入\n",
        "df = pd.read_csv('/content/drive/MyDrive/Colab Notebooks/Iris.csv')\n",
        "s = {'Iris-setosa':0, 'Iris-versicolor':1, 'Iris-virginica':2 }\n",
        "df['Species']=df['Species'].map(s)\n",
        "df.head()"
      ],
      "execution_count": 1,
      "outputs": [
        {
          "output_type": "execute_result",
          "data": {
            "text/html": [
              "<div>\n",
              "<style scoped>\n",
              "    .dataframe tbody tr th:only-of-type {\n",
              "        vertical-align: middle;\n",
              "    }\n",
              "\n",
              "    .dataframe tbody tr th {\n",
              "        vertical-align: top;\n",
              "    }\n",
              "\n",
              "    .dataframe thead th {\n",
              "        text-align: right;\n",
              "    }\n",
              "</style>\n",
              "<table border=\"1\" class=\"dataframe\">\n",
              "  <thead>\n",
              "    <tr style=\"text-align: right;\">\n",
              "      <th></th>\n",
              "      <th>Id</th>\n",
              "      <th>SepalLengthCm</th>\n",
              "      <th>SepalWidthCm</th>\n",
              "      <th>PetalLengthCm</th>\n",
              "      <th>PetalWidthCm</th>\n",
              "      <th>Species</th>\n",
              "    </tr>\n",
              "  </thead>\n",
              "  <tbody>\n",
              "    <tr>\n",
              "      <th>0</th>\n",
              "      <td>1</td>\n",
              "      <td>5.1</td>\n",
              "      <td>3.5</td>\n",
              "      <td>1.4</td>\n",
              "      <td>0.2</td>\n",
              "      <td>0</td>\n",
              "    </tr>\n",
              "    <tr>\n",
              "      <th>1</th>\n",
              "      <td>2</td>\n",
              "      <td>4.9</td>\n",
              "      <td>3.0</td>\n",
              "      <td>1.4</td>\n",
              "      <td>0.2</td>\n",
              "      <td>0</td>\n",
              "    </tr>\n",
              "    <tr>\n",
              "      <th>2</th>\n",
              "      <td>3</td>\n",
              "      <td>4.7</td>\n",
              "      <td>3.2</td>\n",
              "      <td>1.3</td>\n",
              "      <td>0.2</td>\n",
              "      <td>0</td>\n",
              "    </tr>\n",
              "    <tr>\n",
              "      <th>3</th>\n",
              "      <td>4</td>\n",
              "      <td>4.6</td>\n",
              "      <td>3.1</td>\n",
              "      <td>1.5</td>\n",
              "      <td>0.2</td>\n",
              "      <td>0</td>\n",
              "    </tr>\n",
              "    <tr>\n",
              "      <th>4</th>\n",
              "      <td>5</td>\n",
              "      <td>5.0</td>\n",
              "      <td>3.6</td>\n",
              "      <td>1.4</td>\n",
              "      <td>0.2</td>\n",
              "      <td>0</td>\n",
              "    </tr>\n",
              "  </tbody>\n",
              "</table>\n",
              "</div>"
            ],
            "text/plain": [
              "   Id  SepalLengthCm  SepalWidthCm  PetalLengthCm  PetalWidthCm  Species\n",
              "0   1            5.1           3.5            1.4           0.2        0\n",
              "1   2            4.9           3.0            1.4           0.2        0\n",
              "2   3            4.7           3.2            1.3           0.2        0\n",
              "3   4            4.6           3.1            1.5           0.2        0\n",
              "4   5            5.0           3.6            1.4           0.2        0"
            ]
          },
          "metadata": {},
          "execution_count": 1
        }
      ]
    },
    {
      "cell_type": "code",
      "metadata": {
        "colab": {
          "base_uri": "https://localhost:8080/",
          "height": 206
        },
        "id": "4cU-kywktnqf",
        "outputId": "4922403b-a444-4b59-f3df-2ccaee0f7bb1"
      },
      "source": [
        "# 欄位設定\n",
        "X_col_num = ['SepalLengthCm', 'SepalWidthCm', 'PetalLengthCm', 'PetalWidthCm']\n",
        "X_col_cat = []\n",
        "X_cols = X_col_num + X_col_cat\n",
        "y_col = 'Species'\n",
        "# 資料切割成訓練和測試集\n",
        "from sklearn.model_selection import train_test_split\n",
        "X = df[X_cols]\n",
        "y = df[y_col]\n",
        "X_train, X_test, y_train, y_test = train_test_split(X, y, test_size=0.33, random_state=42)\n",
        "df.head()"
      ],
      "execution_count": 2,
      "outputs": [
        {
          "output_type": "execute_result",
          "data": {
            "text/html": [
              "<div>\n",
              "<style scoped>\n",
              "    .dataframe tbody tr th:only-of-type {\n",
              "        vertical-align: middle;\n",
              "    }\n",
              "\n",
              "    .dataframe tbody tr th {\n",
              "        vertical-align: top;\n",
              "    }\n",
              "\n",
              "    .dataframe thead th {\n",
              "        text-align: right;\n",
              "    }\n",
              "</style>\n",
              "<table border=\"1\" class=\"dataframe\">\n",
              "  <thead>\n",
              "    <tr style=\"text-align: right;\">\n",
              "      <th></th>\n",
              "      <th>Id</th>\n",
              "      <th>SepalLengthCm</th>\n",
              "      <th>SepalWidthCm</th>\n",
              "      <th>PetalLengthCm</th>\n",
              "      <th>PetalWidthCm</th>\n",
              "      <th>Species</th>\n",
              "    </tr>\n",
              "  </thead>\n",
              "  <tbody>\n",
              "    <tr>\n",
              "      <th>0</th>\n",
              "      <td>1</td>\n",
              "      <td>5.1</td>\n",
              "      <td>3.5</td>\n",
              "      <td>1.4</td>\n",
              "      <td>0.2</td>\n",
              "      <td>0</td>\n",
              "    </tr>\n",
              "    <tr>\n",
              "      <th>1</th>\n",
              "      <td>2</td>\n",
              "      <td>4.9</td>\n",
              "      <td>3.0</td>\n",
              "      <td>1.4</td>\n",
              "      <td>0.2</td>\n",
              "      <td>0</td>\n",
              "    </tr>\n",
              "    <tr>\n",
              "      <th>2</th>\n",
              "      <td>3</td>\n",
              "      <td>4.7</td>\n",
              "      <td>3.2</td>\n",
              "      <td>1.3</td>\n",
              "      <td>0.2</td>\n",
              "      <td>0</td>\n",
              "    </tr>\n",
              "    <tr>\n",
              "      <th>3</th>\n",
              "      <td>4</td>\n",
              "      <td>4.6</td>\n",
              "      <td>3.1</td>\n",
              "      <td>1.5</td>\n",
              "      <td>0.2</td>\n",
              "      <td>0</td>\n",
              "    </tr>\n",
              "    <tr>\n",
              "      <th>4</th>\n",
              "      <td>5</td>\n",
              "      <td>5.0</td>\n",
              "      <td>3.6</td>\n",
              "      <td>1.4</td>\n",
              "      <td>0.2</td>\n",
              "      <td>0</td>\n",
              "    </tr>\n",
              "  </tbody>\n",
              "</table>\n",
              "</div>"
            ],
            "text/plain": [
              "   Id  SepalLengthCm  SepalWidthCm  PetalLengthCm  PetalWidthCm  Species\n",
              "0   1            5.1           3.5            1.4           0.2        0\n",
              "1   2            4.9           3.0            1.4           0.2        0\n",
              "2   3            4.7           3.2            1.3           0.2        0\n",
              "3   4            4.6           3.1            1.5           0.2        0\n",
              "4   5            5.0           3.6            1.4           0.2        0"
            ]
          },
          "metadata": {},
          "execution_count": 2
        }
      ]
    },
    {
      "cell_type": "code",
      "metadata": {
        "colab": {
          "base_uri": "https://localhost:8080/"
        },
        "id": "-KefbB73vfTp",
        "outputId": "e42992ae-9b67-4508-e246-c5b06638c5b2"
      },
      "source": [
        "print(df.groupby('Species'))"
      ],
      "execution_count": 3,
      "outputs": [
        {
          "output_type": "stream",
          "name": "stdout",
          "text": [
            "<pandas.core.groupby.generic.DataFrameGroupBy object at 0x7f38123def50>\n"
          ]
        }
      ]
    },
    {
      "cell_type": "code",
      "metadata": {
        "id": "UWwMQN3nbKEA"
      },
      "source": [
        "from sklearn.pipeline import make_pipeline\n",
        "from sklearn.impute import SimpleImputer\n",
        "from sklearn.preprocessing import OneHotEncoder\n",
        "from sklearn.compose import ColumnTransformer"
      ],
      "execution_count": 4,
      "outputs": []
    },
    {
      "cell_type": "code",
      "metadata": {
        "id": "nwmrvKSpuwEY"
      },
      "source": [
        "num_pl = make_pipeline(\n",
        "    SimpleImputer(strategy='median')\n",
        ")"
      ],
      "execution_count": 5,
      "outputs": []
    },
    {
      "cell_type": "code",
      "metadata": {
        "id": "Kx8osIa-bnt6"
      },
      "source": [
        "cat_pl = make_pipeline(\n",
        "    SimpleImputer(strategy='most_frequent'),\n",
        "    OneHotEncoder(sparse=False)\n",
        ")"
      ],
      "execution_count": 6,
      "outputs": []
    },
    {
      "cell_type": "code",
      "metadata": {
        "id": "pZ_vXQnfb4YB"
      },
      "source": [
        "data_pl = ColumnTransformer([\n",
        "    ('num_pl', num_pl, X_col_num),\n",
        "    ('cat_pl', cat_pl, X_col_cat)\n",
        "])"
      ],
      "execution_count": 7,
      "outputs": []
    },
    {
      "cell_type": "code",
      "metadata": {
        "colab": {
          "base_uri": "https://localhost:8080/"
        },
        "id": "0SP8hOIPb_JK",
        "outputId": "6c54f0b1-83fd-46c9-aace-d10db8107824"
      },
      "source": [
        "data_pl.fit_transform(X_train)[:1]"
      ],
      "execution_count": 8,
      "outputs": [
        {
          "output_type": "execute_result",
          "data": {
            "text/plain": [
              "array([[5.7, 2.9, 4.2, 1.3]])"
            ]
          },
          "metadata": {},
          "execution_count": 8
        }
      ]
    },
    {
      "cell_type": "code",
      "metadata": {
        "colab": {
          "base_uri": "https://localhost:8080/"
        },
        "id": "gPWjn3LeeKHr",
        "outputId": "bdfaf6b1-7b70-4842-b7fa-775eca7070ad"
      },
      "source": [
        "from sklearn.tree import DecisionTreeClassifier\n",
        "from sklearn.metrics import confusion_matrix, accuracy_score\n",
        "model_pl_tree = make_pipeline(\n",
        "    data_pl,DecisionTreeClassifier(random_state=42)\n",
        ")\n",
        "model_pl_tree.fit(X_train, y_train)\n",
        "y_pred = model_pl_tree.predict(X_train)\n",
        "print('正確率：', accuracy_score(y_train, y_pred).round(2))\n",
        "print('混亂矩陣')\n",
        "print(confusion_matrix(y_train, y_pred))"
      ],
      "execution_count": 9,
      "outputs": [
        {
          "output_type": "stream",
          "name": "stdout",
          "text": [
            "正確率： 1.0\n",
            "混亂矩陣\n",
            "[[31  0  0]\n",
            " [ 0 35  0]\n",
            " [ 0  0 34]]\n"
          ]
        }
      ]
    },
    {
      "cell_type": "code",
      "metadata": {
        "colab": {
          "base_uri": "https://localhost:8080/"
        },
        "id": "UWbIXbO0fl5q",
        "outputId": "9f83a792-6ae8-4808-848b-b3e01383d2ac"
      },
      "source": [
        "y_pred = model_pl_tree.predict(X_test)\n",
        "print('正確率：', accuracy_score(y_test, y_pred).round(2))\n",
        "print('混亂矩陣')\n",
        "print(confusion_matrix(y_test, y_pred))"
      ],
      "execution_count": 10,
      "outputs": [
        {
          "output_type": "stream",
          "name": "stdout",
          "text": [
            "正確率： 0.98\n",
            "混亂矩陣\n",
            "[[19  0  0]\n",
            " [ 0 15  0]\n",
            " [ 0  1 15]]\n"
          ]
        }
      ]
    },
    {
      "cell_type": "code",
      "metadata": {
        "colab": {
          "base_uri": "https://localhost:8080/"
        },
        "id": "Hjq9cky0foYS",
        "outputId": "68da5da1-b1a2-4dec-eb74-d9617cbc6f8d"
      },
      "source": [
        "model_pl_tree = make_pipeline(\n",
        "    data_pl,\n",
        "    DecisionTreeClassifier(max_depth=4, random_state=42)\n",
        ")\n",
        "model_pl_tree.fit(X_train, y_train)\n",
        "print('「訓練集」的正確率：', model_pl_tree.score(X_train, y_train).round(2))\n",
        "print('「測試集」的正確率：', model_pl_tree.score(X_test, y_test).round(2))"
      ],
      "execution_count": 11,
      "outputs": [
        {
          "output_type": "stream",
          "name": "stdout",
          "text": [
            "「訓練集」的正確率： 0.98\n",
            "「測試集」的正確率： 0.98\n"
          ]
        }
      ]
    },
    {
      "cell_type": "code",
      "metadata": {
        "colab": {
          "base_uri": "https://localhost:8080/",
          "height": 283
        },
        "id": "6zRTPmGEkWN6",
        "outputId": "07dd773d-3aea-46be-9fb2-ad41e7fe0007"
      },
      "source": [
        "acc_train = []\n",
        "acc_test = []\n",
        "n_depth = range(2,25)\n",
        "for n in n_depth:\n",
        "    model_pl_tree = make_pipeline(\n",
        "        data_pl,\n",
        "        DecisionTreeClassifier(max_depth=n, random_state=42)\n",
        "    )\n",
        "    model_pl_tree.fit(X_train, y_train)\n",
        "    acc_train.append(model_pl_tree.score(X_train, y_train))\n",
        "    acc_test.append(model_pl_tree.score(X_test, y_test))\n",
        "# 繪圖開始\n",
        "plt.plot(n_depth, acc_train,marker='o', label='train')\n",
        "plt.plot(n_depth, acc_test,c='green',marker='+', ls='--', label='test')\n",
        "plt.xticks(n_depth, n_depth)\n",
        "plt.legend();"
      ],
      "execution_count": 12,
      "outputs": [
        {
          "output_type": "stream",
          "name": "stderr",
          "text": [
            "findfont: Font family ['sans-serif'] not found. Falling back to DejaVu Sans.\n"
          ]
        },
        {
          "output_type": "display_data",
          "data": {
            "image/png": "[encoded data removed]",
            "text/plain": [
              "<Figure size 432x288 with 1 Axes>"
            ]
          },
          "metadata": {
            "image/png": {
              "width": 378,
              "height": 248
            },
            "needs_background": "light"
          }
        }
      ]
    },
    {
      "cell_type": "code",
      "metadata": {
        "colab": {
          "base_uri": "https://localhost:8080/",
          "height": 265
        },
        "id": "4cbxgbyvlSy6",
        "outputId": "f7a1b425-9561-4e00-cdfd-9c3eb222a3c4"
      },
      "source": [
        "acc_train = []\n",
        "acc_test = []\n",
        "n_range = range(2,100,3)\n",
        "for n in n_range:\n",
        "    model_pl_tree = make_pipeline(\n",
        "        data_pl,\n",
        "        DecisionTreeClassifier(random_state=42, min_samples_split=n)\n",
        "    )\n",
        "    model_pl_tree.fit(X_train, y_train)\n",
        "    acc_train.append(model_pl_tree.score(X_train, y_train).round(2))\n",
        "    acc_test.append(model_pl_tree.score(X_test, y_test).round(2))\n",
        "plt.plot(n_range, acc_train, marker='o', label='train')\n",
        "plt.plot(n_range, acc_test, c='green', marker='+', ls='--', label='test')\n",
        "plt.legend();"
      ],
      "execution_count": 20,
      "outputs": [
        {
          "output_type": "display_data",
          "data": {
            "image/png": "[encoded data removed]",
            "text/plain": [
              "<Figure size 432x288 with 1 Axes>"
            ]
          },
          "metadata": {
            "image/png": {
              "width": 379,
              "height": 248
            },
            "needs_background": "light"
          }
        }
      ]
    },
    {
      "cell_type": "code",
      "metadata": {
        "colab": {
          "base_uri": "https://localhost:8080/"
        },
        "id": "lq_ZECwW2Ljf",
        "outputId": "bf055817-5ec4-44b0-e579-bd6c3a3ecafb"
      },
      "source": [
        "from sklearn.model_selection import cross_val_score\n",
        "s = cross_val_score(model_pl_tree, X, y, scoring='accuracy', cv=10)\n",
        "print('交叉驗證每次的準確率：',s)\n",
        "print('交叉驗證得到的平均準確率：',s.mean())"
      ],
      "execution_count": 19,
      "outputs": [
        {
          "output_type": "stream",
          "name": "stdout",
          "text": [
            "交叉驗證每次的準確率： [1.         0.93333333 1.         0.93333333 0.93333333 0.86666667\n",
            " 0.93333333 1.         1.         1.        ]\n",
            "交叉驗證得到的平均準確率： 0.96\n"
          ]
        }
      ]
    },
    {
      "cell_type": "code",
      "metadata": {
        "colab": {
          "base_uri": "https://localhost:8080/"
        },
        "id": "eFAe0WV5qSe5",
        "outputId": "8eef4135-13af-461f-e8df-92c14f6e9f2e"
      },
      "source": [
        "model_pl_tree = make_pipeline(\n",
        "    data_pl,\n",
        "    DecisionTreeClassifier(max_depth=4, random_state=42)\n",
        ")\n",
        "model_pl_tree.fit(X_train, y_train)\n",
        "tree = model_pl_tree.named_steps['decisiontreeclassifier']\n",
        "feature_importance = tree.feature_importances_.round(3)\n",
        "feature_importance"
      ],
      "execution_count": 14,
      "outputs": [
        {
          "output_type": "execute_result",
          "data": {
            "text/plain": [
              "array([0.013, 0.021, 0.567, 0.399])"
            ]
          },
          "metadata": {},
          "execution_count": 14
        }
      ]
    },
    {
      "cell_type": "code",
      "metadata": {
        "colab": {
          "base_uri": "https://localhost:8080/"
        },
        "id": "2hCWxXTmqXpH",
        "outputId": "f58b8a87-6e1c-4835-ba44-9c285192680f"
      },
      "source": [
        "print(f'數值型特徵值{X_col_num}')\n",
        "#print(f'類別型特徵值{X_col_cat}')\n",
        "cat_pl = data_pl.named_transformers_['cat_pl']\n",
        "#oh_cols = cat_pl.named_steps['onehotencoder'].\\\n",
        "#get_feature_names(X_col_cat)\n",
        "#print(f'獨熱編碼後的特徵值。{oh_cols}')\n",
        "cols = X_col_num #+ oh_cols.tolist()\n",
        "print(f'所有欄位{cols}')"
      ],
      "execution_count": 15,
      "outputs": [
        {
          "output_type": "stream",
          "name": "stdout",
          "text": [
            "數值型特徵值['SepalLengthCm', 'SepalWidthCm', 'PetalLengthCm', 'PetalWidthCm']\n",
            "所有欄位['SepalLengthCm', 'SepalWidthCm', 'PetalLengthCm', 'PetalWidthCm']\n"
          ]
        }
      ]
    },
    {
      "cell_type": "code",
      "metadata": {
        "colab": {
          "base_uri": "https://localhost:8080/",
          "height": 173
        },
        "id": "iWcHPghWqaMv",
        "outputId": "7715dae6-b766-4edb-e1fd-891e1cf37510"
      },
      "source": [
        "pd.DataFrame(feature_importance, index=cols, columns=['係數']).\\\n",
        "sort_values(by='係數', ascending=False)"
      ],
      "execution_count": 16,
      "outputs": [
        {
          "output_type": "execute_result",
          "data": {
            "text/html": [
              "<div>\n",
              "<style scoped>\n",
              "    .dataframe tbody tr th:only-of-type {\n",
              "        vertical-align: middle;\n",
              "    }\n",
              "\n",
              "    .dataframe tbody tr th {\n",
              "        vertical-align: top;\n",
              "    }\n",
              "\n",
              "    .dataframe thead th {\n",
              "        text-align: right;\n",
              "    }\n",
              "</style>\n",
              "<table border=\"1\" class=\"dataframe\">\n",
              "  <thead>\n",
              "    <tr style=\"text-align: right;\">\n",
              "      <th></th>\n",
              "      <th>係數</th>\n",
              "    </tr>\n",
              "  </thead>\n",
              "  <tbody>\n",
              "    <tr>\n",
              "      <th>PetalLengthCm</th>\n",
              "      <td>0.567</td>\n",
              "    </tr>\n",
              "    <tr>\n",
              "      <th>PetalWidthCm</th>\n",
              "      <td>0.399</td>\n",
              "    </tr>\n",
              "    <tr>\n",
              "      <th>SepalWidthCm</th>\n",
              "      <td>0.021</td>\n",
              "    </tr>\n",
              "    <tr>\n",
              "      <th>SepalLengthCm</th>\n",
              "      <td>0.013</td>\n",
              "    </tr>\n",
              "  </tbody>\n",
              "</table>\n",
              "</div>"
            ],
            "text/plain": [
              "                  係數\n",
              "PetalLengthCm  0.567\n",
              "PetalWidthCm   0.399\n",
              "SepalWidthCm   0.021\n",
              "SepalLengthCm  0.013"
            ]
          },
          "metadata": {},
          "execution_count": 16
        }
      ]
    },
    {
      "cell_type": "code",
      "metadata": {
        "id": "oS0vasfIqnSo"
      },
      "source": [
        "# from sklearn.tree import export_graphviz\n",
        "# import pydot\n",
        "# from IPython.display import Image\n",
        "# # features 變數存放所有欄位名稱\n",
        "# features = cols\n",
        "# # class_names 變數存放目標值表呈現的文字意義\n",
        "# class_names = ['死', '活']\n",
        "# # export_graphviz 的第一個參數是決策樹模型的預測結果\n",
        "# # max_depth=3 可設定決策樹呈現的深度，其餘參數讀者可自己測試\n",
        "# dot_data = export_graphviz(\n",
        "#     model_pl_tree.named_steps['decisiontreeclassifier'],\n",
        "#     out_file=None,\n",
        "#     feature_names=features,\n",
        "#     class_names = class_names,\n",
        "#     proportion = False,\n",
        "#     max_depth=3,\n",
        "#     filled=True,\n",
        "#     rounded=True\n",
        "# )\n",
        "# graph = pydot.graph_from_dot_data(dot_data)\n",
        "# # 也將結果存到 tree.png 檔案裡\n",
        "# graph[0].write_png('tree.png')\n",
        "# Image(graph[0].create_png())"
      ],
      "execution_count": 17,
      "outputs": []
    }
  ]
}